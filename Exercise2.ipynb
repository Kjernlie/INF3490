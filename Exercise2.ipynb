{
 "cells": [
  {
   "cell_type": "code",
   "execution_count": 135,
   "metadata": {
    "collapsed": false
   },
   "outputs": [
    {
     "name": "stdout",
     "output_type": "stream",
     "text": [
      "[7 1] [ 5.  9.  7.  1.  2.  4.  6.  3.  8.]\n"
     ]
    }
   ],
   "source": [
    "# Exercise 2\n",
    "\n",
    "import numpy as np\n",
    "parent1 = np.array([2, 4, 7, 1, 3, 6, 8, 9, 5])\n",
    "parent2 = np.array([5, 9, 8, 6, 2, 4, 1, 3, 7])\n",
    "child1 = np.zeros(len(parent1))\n",
    "child2 = np.zeros(len(parent1))\n",
    "\n",
    "# creating segment size and position\n",
    "segment_size = np.random.randint(len(parent1)) + 1  \n",
    "segment_pos = np.random.randint(len(parent1)-segment_size+1) \n",
    "\n",
    "# copy the random segment from parent 1 into child 1\n",
    "segment = np.zeros(segment_size)\n",
    "segment = parent1[segment_pos:segment_pos+segment_size]\n",
    "child1[segment_pos:segment_pos+segment_size] = segment\n",
    "\n",
    "# Insert values in the right spots (MAGIC STUFF)\n",
    "for i in range(segment_size):\n",
    "    if segment[i] != parent2[segment_pos + i]:\n",
    "        mvto = np.where(parent2 == segment[i])\n",
    "        child1[mvto[0]] = parent2[segment_pos + i]\n",
    "\n",
    "# Insert the remaining values from parent2 in the blank spaces\n",
    "for i in range(len(child1)):\n",
    "    if child1[i] == 0:\n",
    "        child1[i] = parent2[i]\n",
    "\n",
    "print segment, child1"
   ]
  },
  {
   "cell_type": "code",
   "execution_count": 125,
   "metadata": {
    "collapsed": false
   },
   "outputs": [
    {
     "name": "stdout",
     "output_type": "stream",
     "text": [
      "[8]\n",
      "[4]\n"
     ]
    }
   ],
   "source": [
    "parent1 = np.array([2, 4, 7, 1, 3, 6, 8, 9, 5])\n",
    "\n",
    "a = np.where(parent1 == 5)\n",
    "print a[0]\n",
    "\n",
    "parent1[a[0]] = 4\n",
    "print parent1[a]"
   ]
  },
  {
   "cell_type": "code",
   "execution_count": null,
   "metadata": {
    "collapsed": true
   },
   "outputs": [],
   "source": []
  }
 ],
 "metadata": {
  "kernelspec": {
   "display_name": "Python 2",
   "language": "python",
   "name": "python2"
  },
  "language_info": {
   "codemirror_mode": {
    "name": "ipython",
    "version": 2
   },
   "file_extension": ".py",
   "mimetype": "text/x-python",
   "name": "python",
   "nbconvert_exporter": "python",
   "pygments_lexer": "ipython2",
   "version": "2.7.12"
  }
 },
 "nbformat": 4,
 "nbformat_minor": 1
}
