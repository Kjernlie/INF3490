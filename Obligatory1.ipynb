{
 "cells": [
  {
   "cell_type": "code",
   "execution_count": 133,
   "metadata": {
    "collapsed": false
   },
   "outputs": [],
   "source": [
    "import numpy as np\n",
    "import csv\n",
    "from itertools import permutations\n",
    "import time\n",
    "\n",
    "file = open('/home/johannes/Work/INF3490/oblig1/european_cities.csv', 'r+')\n",
    "reader = csv.reader(file,delimiter=\";\")\n",
    "\n",
    "distance = np.zeros((24,24))\n",
    "cities = []\n",
    "\n",
    "i = 0\n",
    "for row in reader:\n",
    "    #print row\n",
    "    if i == 0:\n",
    "        for j in range(len(row)):\n",
    "            cities.append(row[j])\n",
    "    else:\n",
    "        for j in range(len(distance)):\n",
    "            distance[i-1,j] = float(row[j])\n",
    "    i += 1\n"
   ]
  },
  {
   "cell_type": "code",
   "execution_count": 188,
   "metadata": {
    "collapsed": false
   },
   "outputs": [
    {
     "name": "stdout",
     "output_type": "stream",
     "text": [
      "5018.81\n",
      "(0, 1, 4, 5, 2, 3)\n",
      "Time elapsed is 0.006908 seconds\n",
      "['Barcelona', 'Belgrade', 'Bucharest', 'Budapest', 'Berlin', 'Brussels']\n"
     ]
    }
   ],
   "source": [
    "# Exhaustive search\n",
    "\n",
    "start_time = time.time()\n",
    "\n",
    "N = 6\n",
    "A = distance[0:N,0:N]\n",
    "\n",
    "a = np.arange(N)\n",
    "\n",
    "def dist(cities):\n",
    "    tour = np.zeros(len(cities))\n",
    "    for i in range(len(cities)-1):\n",
    "        tour[i] = A[cities[i],cities[i+1]]\n",
    "    tour[-1] = A[cities[-1], cities[0]]\n",
    "    return np.sum(tour)\n",
    "    \n",
    "    \n",
    "best_sequence = np.zeros(len(cities))\n",
    "best = 100000000\n",
    "for i in permutations(a):\n",
    "    temp = dist(i)\n",
    "    if temp < best:\n",
    "        best = temp\n",
    "        best_sequence = i\n",
    "        \n",
    "elapsed_time = time.time() - start_time\n",
    "        \n",
    "print best\n",
    "print best_sequence\n",
    "print (\"Time elapsed is %f seconds\" %(elapsed_time))\n",
    "\n",
    "\n",
    "def index_to_city_name(city_names, city_indices):\n",
    "    best_cities = []\n",
    "    for i in range(len(city_indices)):\n",
    "        best_cities.append(city_names[int(city_indices[i])])\n",
    "    return best_cities\n",
    "\n",
    "print index_to_city_name(cities, best_sequence)"
   ]
  },
  {
   "cell_type": "code",
   "execution_count": 185,
   "metadata": {
    "collapsed": false
   },
   "outputs": [
    {
     "name": "stdout",
     "output_type": "stream",
     "text": [
      "5783.0 [2 0 3 4 1 5]\n",
      "['Berlin', 'Barcelona', 'Brussels', 'Bucharest', 'Belgrade', 'Budapest']\n"
     ]
    }
   ],
   "source": [
    "# Hill climbing\n",
    "\n",
    "def hillclimb(cities):\n",
    "    init = cities\n",
    "    np.random.shuffle(init)\n",
    "    \n",
    "    best = dist(init)\n",
    "    count = 0\n",
    "    best_sequence = init.copy()\n",
    "    while count < 10:        \n",
    "        number1 = np.random.randint(N)\n",
    "        number2 = np.random.randint(N)\n",
    "        \n",
    "        while number1 == number2:\n",
    "            number2 = np.random.randint(N)\n",
    "        \n",
    "        value1 = init[number1]\n",
    "        value2 = init[number2]\n",
    "        \n",
    "        init[number1] = value2\n",
    "        init[number2] = value1\n",
    "        \n",
    "        temp = dist(init) \n",
    "        \n",
    "        if temp < best:\n",
    "            best = temp\n",
    "            best_sequence = init.copy()\n",
    "            count = 0\n",
    "        else:\n",
    "            count += 1\n",
    "        \n",
    "    return best, best_sequence\n",
    "\n",
    "best, best_sequence = hillclimb(a)\n",
    "print best, best_sequence  \n",
    "print index_to_city_name(cities, best_sequence)\n",
    "\n",
    "# WTF happens with the zeros??\n",
    "    "
   ]
  },
  {
   "cell_type": "code",
   "execution_count": 242,
   "metadata": {
    "collapsed": false
   },
   "outputs": [
    {
     "name": "stdout",
     "output_type": "stream",
     "text": [
      "[[ 5.  2.  1.  3.  0.  4.]\n",
      " [ 0.  2.  5.  1.  4.  3.]\n",
      " [ 1.  5.  0.  4.  2.  3.]\n",
      " [ 2.  5.  0.  3.  4.  1.]\n",
      " [ 0.  1.  3.  2.  5.  4.]\n",
      " [ 2.  4.  1.  3.  5.  0.]]\n",
      "3\n",
      "[0 1 2 4 3 5]\n",
      "[[ 0.  1.  2.]\n",
      " [ 4.  3.  5.]]\n",
      "[[ 0.  1.  3.  2.  5.  4.]\n",
      " [ 2.  5.  0.  3.  4.  1.]\n",
      " [ 2.  4.  1.  3.  5.  0.]]\n",
      "[ 6467.02  6849.59  7241.25]\n",
      "(6467.0200000000004, 6849.5900000000001)\n"
     ]
    },
    {
     "name": "stderr",
     "output_type": "stream",
     "text": [
      "/home/johannes/.local/lib/python2.7/site-packages/ipykernel/__main__.py:13: VisibleDeprecationWarning: using a non-integer number instead of an integer will result in an error in the future\n",
      "/home/johannes/.local/lib/python2.7/site-packages/ipykernel/__main__.py:14: VisibleDeprecationWarning: using a non-integer number instead of an integer will result in an error in the future\n"
     ]
    }
   ],
   "source": [
    "# Genetic algorithm\n",
    "\n",
    "# Create population\n",
    "def mk_population(size,cities):\n",
    "    population = np.zeros((size,len(cities)))\n",
    "    for i in range(size):\n",
    "        np.random.shuffle(cities) \n",
    "        population[i] = cities\n",
    "    return population\n",
    "\n",
    "v = mk_population(6,a)\n",
    "print v\n",
    "\n",
    "\n",
    "# Create tournament group\n",
    "def mk_tournament(population,size):\n",
    "    \n",
    "    tournament_size = population.shape[0]/size\n",
    "    if (float(population.shape[0])/size).is_integer()!=True:\n",
    "        print \"Change population or tournament size!\"\n",
    "    print tournament_size\n",
    "        \n",
    "    tournaments = np.zeros((size,tournament_size))\n",
    "    population_i = np.arange(population.shape[0])\n",
    "    np.random.shuffle(population_i)\n",
    "    \n",
    "    print population_i\n",
    "    count = 0\n",
    "    for i in range(size):\n",
    "        for j in range(tournament_size):\n",
    "            tournaments[i,j] = population_i[count]\n",
    "            count += 1\n",
    "            \n",
    "    \n",
    "    return tournaments\n",
    "\n",
    "\n",
    "w = mk_tournament(v,2)    \n",
    "print w\n",
    "\n",
    "# create parents\n",
    "# takes in the tournaments matrix from mk_tournament, the population, and which tournament you want\n",
    "def mk_parents(tournaments,population,tournament):\n",
    "    \n",
    "    actual_tournament = np.zeros((tournaments.shape[1],population.shape[1]))\n",
    "    for i in range(w.shape[1]):\n",
    "        actual_tournament[i] = population[int(tournaments[tournament,i])] \n",
    "    print actual_tournament\n",
    "    \n",
    "    distances = np.zeros(len(actual_tournament))\n",
    "    for i in range(len(actual_tournament)):\n",
    "        distances[i] = dist(actual_tournament[i])\n",
    "    distances = np.sort(distances)\n",
    "    print distances\n",
    "    parent1 = distances[0]\n",
    "    parent2 = distances[1]\n",
    "    \n",
    "    return parent1, parent2\n",
    "\n",
    "\n",
    "    \n",
    "print mk_parents(w,v,1)\n",
    "    \n"
   ]
  },
  {
   "cell_type": "code",
   "execution_count": 182,
   "metadata": {
    "collapsed": false
   },
   "outputs": [
    {
     "name": "stdout",
     "output_type": "stream",
     "text": [
      "[3 0 2 4 1]\n",
      "[0 1 2 3 4]\n"
     ]
    }
   ],
   "source": []
  },
  {
   "cell_type": "code",
   "execution_count": null,
   "metadata": {
    "collapsed": true
   },
   "outputs": [],
   "source": []
  },
  {
   "cell_type": "code",
   "execution_count": null,
   "metadata": {
    "collapsed": true
   },
   "outputs": [],
   "source": []
  },
  {
   "cell_type": "code",
   "execution_count": null,
   "metadata": {
    "collapsed": true
   },
   "outputs": [],
   "source": []
  }
 ],
 "metadata": {
  "kernelspec": {
   "display_name": "Python 2",
   "language": "python",
   "name": "python2"
  },
  "language_info": {
   "codemirror_mode": {
    "name": "ipython",
    "version": 2
   },
   "file_extension": ".py",
   "mimetype": "text/x-python",
   "name": "python",
   "nbconvert_exporter": "python",
   "pygments_lexer": "ipython2",
   "version": "2.7.12"
  }
 },
 "nbformat": 4,
 "nbformat_minor": 1
}
