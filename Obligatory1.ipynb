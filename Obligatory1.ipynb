{
 "cells": [
  {
   "cell_type": "code",
   "execution_count": 1,
   "metadata": {
    "collapsed": false
   },
   "outputs": [],
   "source": [
    "import numpy as np\n",
    "import csv\n",
    "from itertools import permutations\n",
    "import time\n",
    "\n",
    "file = open('/home/johannes/Work/INF3490/oblig1/european_cities.csv', 'r+')\n",
    "reader = csv.reader(file,delimiter=\";\")\n",
    "\n",
    "distance = np.zeros((24,24))\n",
    "cities = []\n",
    "\n",
    "i = 0\n",
    "for row in reader:\n",
    "    #print row\n",
    "    if i == 0:\n",
    "        for j in range(len(row)):\n",
    "            cities.append(row[j])\n",
    "    else:\n",
    "        for j in range(len(distance)):\n",
    "            distance[i-1,j] = float(row[j])\n",
    "    i += 1\n"
   ]
  },
  {
   "cell_type": "code",
   "execution_count": 51,
   "metadata": {
    "collapsed": false
   },
   "outputs": [
    {
     "name": "stdout",
     "output_type": "stream",
     "text": [
      "5018.81\n",
      "(0, 1, 4, 5, 2, 3)\n",
      "Time elapsed is 0.006139 seconds\n",
      "['Barcelona', 'Belgrade', 'Bucharest', 'Budapest', 'Berlin', 'Brussels']\n"
     ]
    }
   ],
   "source": [
    "# Exhaustive search\n",
    "\n",
    "start_time = time.time()\n",
    "\n",
    "N = 6\n",
    "A = distance[0:N,0:N]\n",
    "\n",
    "a = np.arange(N)\n",
    "\n",
    "def dist(cities):\n",
    "    tour = np.zeros(len(cities))\n",
    "    for i in range(len(cities)-1):\n",
    "        tour[i] = A[cities[i],cities[i+1]]\n",
    "    tour[-1] = A[cities[-1], cities[0]]\n",
    "    return np.sum(tour)\n",
    "    \n",
    "    \n",
    "best_sequence = np.zeros(len(cities))\n",
    "best = 100000000\n",
    "for i in permutations(a):\n",
    "    temp = dist(i)\n",
    "    if temp < best:\n",
    "        best = temp\n",
    "        best_sequence = i\n",
    "        \n",
    "elapsed_time = time.time() - start_time\n",
    "        \n",
    "print best\n",
    "print best_sequence\n",
    "print (\"Time elapsed is %f seconds\" %(elapsed_time))\n",
    "\n",
    "\n",
    "def index_to_city_name(city_names, city_indices):\n",
    "    best_cities = []\n",
    "    for i in range(len(city_indices)):\n",
    "        best_cities.append(city_names[int(city_indices[i])])\n",
    "    return best_cities\n",
    "\n",
    "print index_to_city_name(cities, best_sequence)"
   ]
  },
  {
   "cell_type": "code",
   "execution_count": 104,
   "metadata": {
    "collapsed": false
   },
   "outputs": [
    {
     "name": "stdout",
     "output_type": "stream",
     "text": [
      "6659.58 [0 3 4 2 1 5]\n",
      "['Barcelona', 'Brussels', 'Bucharest', 'Berlin', 'Belgrade', 'Budapest']\n"
     ]
    }
   ],
   "source": [
    "# Hill climbing\n",
    "\n",
    "def hillclimb(cities):\n",
    "    init = cities\n",
    "    np.random.shuffle(init)\n",
    "    \n",
    "    best = dist(init)\n",
    "    best_sequence = init\n",
    "    count = 0\n",
    "    while count < 10:\n",
    "        number1 = np.random.randint(N)\n",
    "        number2 = np.random.randint(N)\n",
    "        \n",
    "        while number1 == number2:\n",
    "            number2 = np.random.randint(N)\n",
    "        \n",
    "        value1 = init[number1]\n",
    "        value2 = init[number2]\n",
    "        \n",
    "        init[number1] = value2\n",
    "        init[number2] = value1\n",
    "        \n",
    "        temp = dist(init) \n",
    "        \n",
    "        if temp < best:\n",
    "            best = temp\n",
    "            best_sequence = init\n",
    "        else:\n",
    "            count += 1\n",
    "        \n",
    "        return best, best_sequence\n",
    "\n",
    "best, best_sequence = hillclimb(a)\n",
    "print best, best_sequence  \n",
    "print index_to_city_name(cities, best_sequence)\n",
    "\n",
    "# WTF happens with the zeros??\n",
    "    "
   ]
  },
  {
   "cell_type": "code",
   "execution_count": null,
   "metadata": {
    "collapsed": false
   },
   "outputs": [],
   "source": [
    "# Genetic a"
   ]
  },
  {
   "cell_type": "code",
   "execution_count": null,
   "metadata": {
    "collapsed": true
   },
   "outputs": [],
   "source": []
  },
  {
   "cell_type": "code",
   "execution_count": null,
   "metadata": {
    "collapsed": true
   },
   "outputs": [],
   "source": []
  }
 ],
 "metadata": {
  "kernelspec": {
   "display_name": "Python 2",
   "language": "python",
   "name": "python2"
  },
  "language_info": {
   "codemirror_mode": {
    "name": "ipython",
    "version": 2
   },
   "file_extension": ".py",
   "mimetype": "text/x-python",
   "name": "python",
   "nbconvert_exporter": "python",
   "pygments_lexer": "ipython2",
   "version": "2.7.12"
  }
 },
 "nbformat": 4,
 "nbformat_minor": 1
}
