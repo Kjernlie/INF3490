{
 "cells": [
  {
   "cell_type": "code",
   "execution_count": 2,
   "metadata": {
    "collapsed": false
   },
   "outputs": [],
   "source": [
    "import numpy as np\n",
    "import csv\n",
    "from itertools import permutations\n",
    "\n",
    "file = open('/home/johannes/Work/INF3490/oblig1/european_cities.csv', 'r+')\n",
    "reader = csv.reader(file,delimiter=\";\")\n",
    "\n",
    "distance = np.zeros((24,24))\n",
    "cities = []\n",
    "\n",
    "i = 0\n",
    "for row in reader:\n",
    "    #print row\n",
    "    if i == 0:\n",
    "        for j in range(len(row)):\n",
    "            cities.append(row[j])\n",
    "    else:\n",
    "        for j in range(len(distance)):\n",
    "            distance[i-1,j] = float(row[j])\n",
    "    i += 1\n"
   ]
  },
  {
   "cell_type": "code",
   "execution_count": 3,
   "metadata": {
    "collapsed": false
   },
   "outputs": [
    {
     "name": "stdout",
     "output_type": "stream",
     "text": [
      "4024.99\n"
     ]
    },
    {
     "name": "stderr",
     "output_type": "stream",
     "text": [
      "/home/johannes/.local/lib/python2.7/site-packages/ipykernel/__main__.py:14: VisibleDeprecationWarning: using a non-integer number instead of an integer will result in an error in the future\n",
      "/home/johannes/.local/lib/python2.7/site-packages/ipykernel/__main__.py:15: VisibleDeprecationWarning: using a non-integer number instead of an integer will result in an error in the future\n"
     ]
    }
   ],
   "source": [
    "# Exhaustive search\n",
    "\n",
    "A = distance[0:3,0:3]\n",
    "\n",
    "index_cities = np.zeros(len(cities))\n",
    "for i in range(len(cities)):\n",
    "    index_cities[i] = i\n",
    "a = index_cities[0:3]\n",
    "    \n",
    "def dist(cities):\n",
    "    tour = np.zeros(len(cities)+1)\n",
    "    tour[0] = 0\n",
    "    for i in range(len(cities)-1):\n",
    "        tour[i+1] = A[cities[i],cities[i+1]]\n",
    "    tour[-1] = A[cities[-1], cities[0]]\n",
    "    return np.sum(tour)\n",
    "    \n",
    "temp = 10000000\n",
    "for i in permutations(a):\n",
    "    best = dist(i)\n",
    "    if best < temp:\n",
    "        temp = best\n",
    "        \n",
    "print best\n",
    "\n",
    "#tour = np.zeros(len(A)+1)\n",
    "  \n",
    "#best_tour = tour\n",
    "#best = 1000000\n",
    "#for i in range(len(A)):\n",
    "#    print i\n",
    "#    tour[0] = A[i,i]\n",
    "#    temp_A1 = np.delete(A,i,1)\n",
    "#    for j in permutations(temp_A1[i]):\n",
    "#        tour[1] = j[0]\n",
    "#        x1,y1 = np.where(temp_A1 == j[0])\n",
    "#        x2,y2 = np.where(temp_A1[:,y1] == 0) \n",
    "#        temp_A2 = np.delete(temp_A1,y1,1)\n",
    "#        for k in permutations(temp_A2[int(x2)]):\n",
    "#            tour[2] = k[0]\n",
    "#            x1,y1 = np.where(temp_A2 == k[0])\n",
    "#            x2,y2 = np.where(temp_A2[:,y1] == 0)\n",
    "#            temp_A3 = np.delete(temp_A2,y1,1)\n",
    "#            tour[3] = temp_A3[x2]\n",
    "#            tour[4] = temp_A3[i]\n",
    "#            temp = np.sum(tour)\n",
    "#            if temp < best:\n",
    "#                best = temp\n",
    "#                best_tour = tour\n",
    "#                start_city = cities[i]\n",
    "                \n",
    "#print best_tour, start_city, best\n",
    "         "
   ]
  },
  {
   "cell_type": "code",
   "execution_count": null,
   "metadata": {
    "collapsed": true
   },
   "outputs": [],
   "source": []
  },
  {
   "cell_type": "code",
   "execution_count": null,
   "metadata": {
    "collapsed": true
   },
   "outputs": [],
   "source": []
  }
 ],
 "metadata": {
  "kernelspec": {
   "display_name": "Python 2",
   "language": "python",
   "name": "python2"
  },
  "language_info": {
   "codemirror_mode": {
    "name": "ipython",
    "version": 2
   },
   "file_extension": ".py",
   "mimetype": "text/x-python",
   "name": "python",
   "nbconvert_exporter": "python",
   "pygments_lexer": "ipython2",
   "version": "2.7.12"
  }
 },
 "nbformat": 4,
 "nbformat_minor": 1
}
