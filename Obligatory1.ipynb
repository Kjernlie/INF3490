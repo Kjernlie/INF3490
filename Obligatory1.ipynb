{
 "cells": [
  {
   "cell_type": "code",
   "execution_count": 7,
   "metadata": {
    "collapsed": false
   },
   "outputs": [],
   "source": [
    "import numpy as np\n",
    "import csv\n",
    "from itertools import permutations\n",
    "import time\n",
    "\n",
    "file = open('/home/johannes/Work/INF3490/oblig1/european_cities.csv', 'r+')\n",
    "reader = csv.reader(file,delimiter=\";\")\n",
    "\n",
    "distance = np.zeros((24,24))\n",
    "cities = []\n",
    "\n",
    "i = 0\n",
    "for row in reader:\n",
    "    #print row\n",
    "    if i == 0:\n",
    "        for j in range(len(row)):\n",
    "            cities.append(row[j])\n",
    "    else:\n",
    "        for j in range(len(distance)):\n",
    "            distance[i-1,j] = float(row[j])\n",
    "    i += 1\n"
   ]
  },
  {
   "cell_type": "code",
   "execution_count": 10,
   "metadata": {
    "collapsed": false
   },
   "outputs": [
    {
     "name": "stdout",
     "output_type": "stream",
     "text": [
      "5018.81\n",
      "(0.0, 1.0, 4.0, 5.0, 2.0, 3.0)\n",
      "Time elapsed is 0.027059 seconds\n"
     ]
    },
    {
     "name": "stderr",
     "output_type": "stream",
     "text": [
      "/home/johannes/.local/lib/python2.7/site-packages/ipykernel/__main__.py:15: VisibleDeprecationWarning: using a non-integer number instead of an integer will result in an error in the future\n",
      "/home/johannes/.local/lib/python2.7/site-packages/ipykernel/__main__.py:16: VisibleDeprecationWarning: using a non-integer number instead of an integer will result in an error in the future\n"
     ]
    }
   ],
   "source": [
    "# Exhaustive search\n",
    "\n",
    "start_time = time.time()\n",
    "\n",
    "N = 6\n",
    "A = distance[0:N,0:N]\n",
    "\n",
    "index_cities = np.zeros(len(cities))\n",
    "for i in range(len(cities)):\n",
    "    index_cities[i] = i\n",
    "a = index_cities[0:N]\n",
    "    \n",
    "def dist(cities):\n",
    "    tour = np.zeros(len(cities))\n",
    "    for i in range(len(cities)-1):\n",
    "        tour[i] = A[cities[i],cities[i+1]]\n",
    "    tour[-1] = A[cities[-1], cities[0]]\n",
    "    return np.sum(tour)\n",
    "    \n",
    "    \n",
    "best_sequence = np.zeros(len(cities))\n",
    "best = 100000000\n",
    "for i in permutations(a):\n",
    "    temp = dist(i)\n",
    "    if temp < best:\n",
    "        best = temp\n",
    "        best_sequence = i\n",
    "        \n",
    "elapsed_time = time.time() - start_time\n",
    "        \n",
    "print best\n",
    "print best_sequence\n",
    "print (\"Time elapsed is %f seconds\" %(elapsed_time))\n",
    "\n",
    "best_cities = []\n",
    "for i in range(len(best_sequence)):\n",
    "    best_cities.append(cities[])\n",
    "\n",
    "         "
   ]
  },
  {
   "cell_type": "code",
   "execution_count": null,
   "metadata": {
    "collapsed": true
   },
   "outputs": [],
   "source": [
    "# Hill climbing"
   ]
  },
  {
   "cell_type": "code",
   "execution_count": null,
   "metadata": {
    "collapsed": true
   },
   "outputs": [],
   "source": []
  }
 ],
 "metadata": {
  "kernelspec": {
   "display_name": "Python 2",
   "language": "python",
   "name": "python2"
  },
  "language_info": {
   "codemirror_mode": {
    "name": "ipython",
    "version": 2
   },
   "file_extension": ".py",
   "mimetype": "text/x-python",
   "name": "python",
   "nbconvert_exporter": "python",
   "pygments_lexer": "ipython2",
   "version": "2.7.12"
  }
 },
 "nbformat": 4,
 "nbformat_minor": 1
}
