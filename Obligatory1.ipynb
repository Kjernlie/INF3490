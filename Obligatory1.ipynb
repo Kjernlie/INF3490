{
 "cells": [
  {
   "cell_type": "code",
   "execution_count": 42,
   "metadata": {
    "collapsed": false
   },
   "outputs": [],
   "source": [
    "import numpy as np\n",
    "import csv\n",
    "\n",
    "file = open('/home/johannes/Work/INF3490/oblig1/european_cities.csv', 'r+')\n",
    "reader = csv.reader(file,delimiter=\";\")\n",
    "\n",
    "distance = np.zeros((24,24))\n",
    "cities = []\n",
    "\n",
    "i = 0\n",
    "for row in reader:\n",
    "    #print row\n",
    "    if i == 0:\n",
    "        for j in range(len(row)):\n",
    "            cities.append(row[j])\n",
    "    else:\n",
    "        for j in range(len(distance)):\n",
    "            distance[i-1,j] = float(row[j])\n",
    "    i += 1\n",
    "        \n",
    "A = distance[0:6,0:6]"
   ]
  },
  {
   "cell_type": "code",
   "execution_count": 43,
   "metadata": {
    "collapsed": false
   },
   "outputs": [
    {
     "name": "stdout",
     "output_type": "stream",
     "text": [
      "1497.61 (1497.6099999999999, 1293.4000000000001, 999.25, 689.05999999999995, 651.62, 0.0)\n"
     ]
    }
   ],
   "source": [
    "# Exhaustive search\n",
    "\n",
    "from itertools import permutations\n",
    "\n",
    "best_cities = np.zeros(len(A))\n",
    "best = 1000000\n",
    "for i in range(len(A)):                             # go through each vector with different start city\n",
    "    for j in permutations(A[i]):                    # create the permutations\n",
    "        temp = np.sum(np.absolute(np.diff(j)))      # find the total distance\n",
    "        if temp < best:                 # find the lowest distance\n",
    "            best = temp                 # save the lowest value\n",
    "            best_cities = j             # save the best travel route\n",
    "            \n",
    "print best, best_cities\n",
    "        "
   ]
  },
  {
   "cell_type": "code",
   "execution_count": null,
   "metadata": {
    "collapsed": true
   },
   "outputs": [],
   "source": []
  },
  {
   "cell_type": "code",
   "execution_count": null,
   "metadata": {
    "collapsed": true
   },
   "outputs": [],
   "source": []
  }
 ],
 "metadata": {
  "kernelspec": {
   "display_name": "Python 2",
   "language": "python",
   "name": "python2"
  },
  "language_info": {
   "codemirror_mode": {
    "name": "ipython",
    "version": 2
   },
   "file_extension": ".py",
   "mimetype": "text/x-python",
   "name": "python",
   "nbconvert_exporter": "python",
   "pygments_lexer": "ipython2",
   "version": "2.7.12"
  }
 },
 "nbformat": 4,
 "nbformat_minor": 1
}
